{
 "cells": [
  {
   "cell_type": "code",
   "execution_count": null,
   "metadata": {
    "scrolled": true
   },
   "outputs": [],
   "source": [
    "import pydicom\n",
    "import matplotlib.pyplot as plt\n",
    "import numpy as np\n",
    "from skimage.filters import threshold_otsu\n",
    "from skimage.transform import resize\n",
    "from collections import defaultdict\n",
    "import pandas as pd\n",
    "import os\n",
    "\n",
    "% matplotlib inline"
   ]
  },
  {
   "cell_type": "code",
   "execution_count": null,
   "metadata": {},
   "outputs": [],
   "source": [
    "class ROI:\n",
    "    \n",
    "    def __init__(self, filename, border, character, flipped):\n",
    "        dataset = pydicom.dcmread(filename)\n",
    "        a = dataset.pixel_array\n",
    "        \n",
    "        if a.shape[0] < 1000:\n",
    "            fl = list(filename)\n",
    "            if fl[-5] == '0':\n",
    "                fl[-5] = '1'\n",
    "                filename = \"\".join(fl)\n",
    "            else:\n",
    "                fl[-5] = '0'\n",
    "                filename = ''.join(fl)\n",
    "                \n",
    "        dataset = pydicom.dcmread(filename)\n",
    "        a = dataset.pixel_array\n",
    "        '''\n",
    "        if \"LEFT\" in filename:\n",
    "            self.mode = 'left'\n",
    "        else:\n",
    "            self.mode = 'right'\n",
    "            a = a[:,::-1]\n",
    "        '''\n",
    "        if flipped:\n",
    "            a = a[:, ::-1]\n",
    "        \n",
    "        self.filename = filename\n",
    "        self.image = resize(a[:, :border], (227,227))\n",
    "        self.character = character\n",
    "        \n",
    "    def plot_contour(self):\n",
    "        if self.character == 'benign':\n",
    "            plt.contour(self.image, cmap = 'plasma', linewidths = 0.5 )\n",
    "        else:\n",
    "            plt.contour(self.image, cmap = 'winter', linewidths = 0.5 )\n",
    "\n",
    "\n",
    "class Photo:\n",
    "    \n",
    "    def find_border(self, x):\n",
    "    \n",
    "        '''\n",
    "        arr = np.sum(x[1000:4000, :], axis = 0)\n",
    "        i = 0\n",
    "        while(arr[i] > 0):\n",
    "            i += 1\n",
    "        return i\n",
    "        '''\n",
    "        arr = np.sum(x[1000:4000, :], axis = 1)\n",
    "        #plt.plot(range(len(arr)), arr)\n",
    "        am = np.argmax(arr)\n",
    "        #print(am)\n",
    "        \n",
    "        for i in range(x.shape[1] - 100 , 0 , -1):\n",
    "            if x[1000 + am, i] > 0:\n",
    "                return i\n",
    "    \n",
    "    def plot_image(self):\n",
    "        \n",
    "        plt.imshow(self.image, cmap = 'gray')\n",
    "        \n",
    "        for roi in  self.m_rois:\n",
    "            roi.plot_contour()\n",
    "            \n",
    "        for roi in  self.b_rois:\n",
    "            roi.plot_contour()\n",
    "            \n",
    "        plt.show()\n",
    "            \n",
    "    \n",
    "    def __init__(self, filename, filenames_ROI_m, filenames_ROI_b):\n",
    "        dataset = pydicom.dcmread(filename)\n",
    "        a = dataset.pixel_array\n",
    "        \n",
    "        '''\n",
    "        if \"LEFT\" in filename:\n",
    "            self.mode = 'left'\n",
    "        else:\n",
    "            self.mode = 'right'\n",
    "            a = a[:,::-1]\n",
    "        '''\n",
    "\n",
    "            \n",
    "        self.filename = filename\n",
    "        self.threshold = threshold_otsu(a)\n",
    "        \n",
    "        self.flipped = False\n",
    "        \n",
    "        temp = a > self.threshold\n",
    "        if np.sum(temp[:, :temp.shape[1] // 2]) > np.sum(temp[:, temp.shape[1] // 2:]):\n",
    "            self.mode = 'left'\n",
    "        else:\n",
    "            self.mode = 'right'\n",
    "            a = a[:,::-1]\n",
    "            self.flipped = True\n",
    "        \n",
    "        self.border = self.find_border(a > self.threshold)\n",
    "\n",
    "        \n",
    "        \n",
    "        #plt.imshow(a > self.threshold, cmap = 'gray')\n",
    "        \n",
    "        self.image = resize(a[:, :self.border], (227,227))\n",
    "        \n",
    "        self.m_rois = []\n",
    "        self.b_rois = []\n",
    "        \n",
    "        for fn in filenames_ROI_m:\n",
    "            self.m_rois.append(ROI(fn, self.border, 'malignant', self.flipped))\n",
    "        \n",
    "        for fn in filenames_ROI_b:\n",
    "            self.b_rois.append(ROI(fn, self.border, 'benign', self.flipped))\n",
    "        \n",
    "        "
   ]
  },
  {
   "cell_type": "code",
   "execution_count": null,
   "metadata": {},
   "outputs": [],
   "source": [
    "s = 'adasdsd'\n",
    "s[0] = 'x'"
   ]
  },
  {
   "cell_type": "code",
   "execution_count": null,
   "metadata": {},
   "outputs": [],
   "source": [
    "filename = \"CBIS-DDSM/Mass-Test_P_00016_LEFT_CC/10-04-2016-DDSM-30104/1-full mammogram images-14172/000000.dcm\"\n",
    "f1 = \"CBIS-DDSM/Mass-Test_P_00016_LEFT_CC_1/10-04-2016-DDSM-09887/1-cropped images-26184/000001.dcm\"\n",
    "filenames_ROI_m = [f1]\n",
    "filenames_ROI_b = []\n",
    "\n",
    "ph = Photo(filename, filenames_ROI_m, filenames_ROI_b)"
   ]
  },
  {
   "cell_type": "code",
   "execution_count": null,
   "metadata": {},
   "outputs": [],
   "source": [
    "ph.plot_image()"
   ]
  },
  {
   "cell_type": "code",
   "execution_count": null,
   "metadata": {},
   "outputs": [],
   "source": [
    "import pickle\n",
    "\n",
    "def cut_name(x):\n",
    "    fst = x.find(\"/\")\n",
    "    scnd = fst + x[fst + 1:].find('/') + 1\n",
    "    return x[fst+1:scnd]\n",
    "\n",
    "filehandler = open('Data/' + cut_name(ph.filename), 'wb') \n",
    "pickle.dump(ph, filehandler)"
   ]
  },
  {
   "cell_type": "code",
   "execution_count": null,
   "metadata": {},
   "outputs": [],
   "source": [
    "with open('Data/' + cut_name(ph.filename), 'rb') as filehandler:\n",
    "    ph = pickle.load(filehandler)"
   ]
  },
  {
   "cell_type": "code",
   "execution_count": null,
   "metadata": {},
   "outputs": [],
   "source": [
    "ph"
   ]
  },
  {
   "cell_type": "code",
   "execution_count": null,
   "metadata": {},
   "outputs": [],
   "source": [
    "'asdaasd'.find(\"d\")"
   ]
  },
  {
   "cell_type": "code",
   "execution_count": null,
   "metadata": {},
   "outputs": [],
   "source": [
    "from collections import defaultdict\n",
    "\n",
    "def parse_name(filename):\n",
    "    ind = 10 + filename[10:].find('/')\n",
    "    sp = filename[10:ind]\n",
    "\n",
    "    if '0' <= sp[-1] <= '9':\n",
    "        return sp[:-2], sp, filename + '/000001.dcm' , 0\n",
    "    else:\n",
    "        return sp, sp,  filename + '/000000.dcm', 1\n",
    "    \n",
    "    "
   ]
  },
  {
   "cell_type": "code",
   "execution_count": null,
   "metadata": {},
   "outputs": [],
   "source": [
    "originals_mass = dict()\n",
    "rois_mass = defaultdict(dict)\n",
    "\n",
    "for root, dirs, files in os.walk(\"CBIS-DDSM/\"):  \n",
    "    for filename in files:\n",
    "        if 'Mass' in root:\n",
    "            entity, name,  addr, reg = parse_name(root.replace('\\\\', '/'))\n",
    "            if reg == 0:\n",
    "                rois_mass[entity][name] = addr\n",
    "            else:\n",
    "                originals_mass[entity] = addr"
   ]
  },
  {
   "cell_type": "code",
   "execution_count": null,
   "metadata": {},
   "outputs": [],
   "source": [
    "#calc_test = pd.read_csv(\"calc_case_description_test_set.csv\")\n",
    "#calc_train = pd.read_csv(\"calc_case_description_train_set.csv\")\n",
    "mass_test = pd.read_csv(\"mass_case_description_test_set.csv\")\n",
    "mass_train = pd.read_csv(\"mass_case_description_train_set.csv\")\n",
    "\n",
    "mass_dict = {}\n",
    "\n",
    "for pat_id, direct, view, abn_id, pathology in  mass_test.loc[:,(\"patient_id\", 'left or right breast',\\\n",
    "                                                                'image view', 'abnormality id', 'pathology')].values:\n",
    "    mass_dict['Mass-Test_' + pat_id + '_' + direct + '_' + view + '_' + str(abn_id)] = pathology\n",
    "\n",
    "\n",
    "for pat_id, direct, view, abn_id, pathology in  mass_train.loc[:,(\"patient_id\", 'left or right breast',\\\n",
    "                                                                'image view', 'abnormality id', 'pathology')].values:\n",
    "    if pathology != 'MALIGNANT':\n",
    "        pathology = 'BENIGN'\n",
    "    mass_dict['Mass-Training_' + pat_id + '_' + direct + '_' + view + '_' + str(abn_id)] = pathology\n"
   ]
  },
  {
   "cell_type": "code",
   "execution_count": null,
   "metadata": {},
   "outputs": [],
   "source": [
    "rois_mass['CBIS-DDSM/Mass-Test_P_00037_RIGHT_CC/10-04-2016-DDSM-74559/1-full mammogram images-82316/000000.dcm']"
   ]
  },
  {
   "cell_type": "code",
   "execution_count": null,
   "metadata": {
    "scrolled": true
   },
   "outputs": [],
   "source": [
    "MASS = []\n",
    "for entity in originals_mass.keys():\n",
    "    mal = []\n",
    "    ben = []\n",
    "    rois = rois_mass[entity]\n",
    "    for roi in rois.keys():\n",
    "        if mass_dict[roi] == 'BENIGN':\n",
    "            ben.append(rois[roi])\n",
    "        else:\n",
    "            try:\n",
    "                mal.append(rois[roi])\n",
    "            except Exception as e:\n",
    "                print('*********************************************')\n",
    "                print(rois[roi])\n",
    "                print(e)\n",
    "    try:\n",
    "        ph = Photo(originals_mass[entity], mal, ben)\n",
    "        print(ph.filename)\n",
    "        print(ph.mode)\n",
    "        ph.plot_image()\n",
    "        \n",
    "        with open('Data/' + cut_name(ph.filename), 'wb') as filehandler:\n",
    "            pickle.dump(ph, filehandler)\n",
    "        #MASS.append(ph)\n",
    "        #stop = int(input(\"Stop?\"))\n",
    "        #if stop == 1:\n",
    "        #    break\n",
    "        \n",
    "    except Exception as e:\n",
    "        print('********************************************')\n",
    "        print(rois[roi])\n",
    "        print(e)"
   ]
  },
  {
   "cell_type": "code",
   "execution_count": null,
   "metadata": {},
   "outputs": [],
   "source": [
    "len(MASS)"
   ]
  },
  {
   "cell_type": "code",
   "execution_count": null,
   "metadata": {},
   "outputs": [],
   "source": [
    "MASS[0].plot_image()"
   ]
  },
  {
   "cell_type": "code",
   "execution_count": null,
   "metadata": {},
   "outputs": [],
   "source": [
    "set(mass_test.pathology)"
   ]
  },
  {
   "cell_type": "code",
   "execution_count": null,
   "metadata": {},
   "outputs": [],
   "source": [
    "ph"
   ]
  },
  {
   "cell_type": "code",
   "execution_count": null,
   "metadata": {},
   "outputs": [],
   "source": [
    "from skimage.filters import threshold_otsu\n",
    "from skimage.transform import resize\n",
    "import os"
   ]
  },
  {
   "cell_type": "code",
   "execution_count": null,
   "metadata": {},
   "outputs": [],
   "source": [
    "val = threshold_otsu(a / 65535)"
   ]
  },
  {
   "cell_type": "code",
   "execution_count": null,
   "metadata": {},
   "outputs": [],
   "source": [
    "\n",
    "\n",
    "\n",
    "w = list(os.walk(\"CBIS-DDSM/\"))"
   ]
  },
  {
   "cell_type": "code",
   "execution_count": null,
   "metadata": {},
   "outputs": [],
   "source": [
    "import re\n",
    "[m.start() for m in re.finditer('\\', 'test test test test')]"
   ]
  },
  {
   "cell_type": "code",
   "execution_count": null,
   "metadata": {},
   "outputs": [],
   "source": [
    "\n",
    "\n",
    "val = threshold_otsu(a)\n",
    "plt.imshow(a > val, cmap = 'gray')\n",
    "border = find_border(a > val, mode = 'right')\n",
    "plt.plot([border for i in range(4600)], [i for i in range(4600)], c = 'red')\n",
    "plt.show()\n"
   ]
  },
  {
   "cell_type": "code",
   "execution_count": null,
   "metadata": {},
   "outputs": [],
   "source": [
    "plt.imshow((a > val)[:,::-1], cmap = 'gray')"
   ]
  },
  {
   "cell_type": "code",
   "execution_count": null,
   "metadata": {},
   "outputs": [],
   "source": [
    "np.min((a > val).sum(axis = 0))"
   ]
  },
  {
   "cell_type": "code",
   "execution_count": null,
   "metadata": {},
   "outputs": [],
   "source": [
    "arr = np.sum(a > val, axis = 1)\n",
    "plt.plot(range(len(arr)), arr)\n",
    "plt.show()"
   ]
  },
  {
   "cell_type": "code",
   "execution_count": null,
   "metadata": {},
   "outputs": [],
   "source": [
    "(np.sum(a > val, axis = 1) )[1000:1500]"
   ]
  },
  {
   "cell_type": "code",
   "execution_count": null,
   "metadata": {},
   "outputs": [],
   "source": [
    "plt.imshow(resize(a[:, :border], (227,227)), cmap = 'gray')"
   ]
  },
  {
   "cell_type": "code",
   "execution_count": null,
   "metadata": {},
   "outputs": [],
   "source": [
    "resize(a[:, :border], (227,227)).shape"
   ]
  },
  {
   "cell_type": "code",
   "execution_count": null,
   "metadata": {},
   "outputs": [],
   "source": [
    "np.sum(a, axis = 0).shape"
   ]
  },
  {
   "cell_type": "code",
   "execution_count": null,
   "metadata": {},
   "outputs": [],
   "source": [
    "np.max(a / 65535)"
   ]
  },
  {
   "cell_type": "code",
   "execution_count": null,
   "metadata": {},
   "outputs": [],
   "source": [
    "filehandler.close()"
   ]
  },
  {
   "cell_type": "code",
   "execution_count": null,
   "metadata": {},
   "outputs": [],
   "source": [
    "dataset1 = pydicom.dcmread(\"CBIS-DDSM/Calc-Test_P_00038_RIGHT_CC/08-29-2017-DDSM-28468/1-full mammogram images-63304/000000.dcm\")"
   ]
  },
  {
   "cell_type": "code",
   "execution_count": null,
   "metadata": {},
   "outputs": [],
   "source": [
    "dataset2 = pydicom.dcmread(\"CBIS-DDSM/Calc-Test_P_00038_RIGHT_CC_1/08-29-2017-DDSM-83105/1-ROI mask images-37851/000001.dcm\")"
   ]
  },
  {
   "cell_type": "code",
   "execution_count": null,
   "metadata": {},
   "outputs": [],
   "source": [
    "a1 = dataset1.pixel_array\n",
    "a2 = dataset2.pixel_array"
   ]
  },
  {
   "cell_type": "code",
   "execution_count": null,
   "metadata": {},
   "outputs": [],
   "source": [
    "plt.imshow(resize(a1 / 66000, (227,227)), cmap = 'gray')\n",
    "#plt.imshow(, cmap = 'Blues', alpha = 0.15)\n",
    "plt.contour(resize( a2 / 66000, (227,227)), cmap = 'winter', linewidths = 0.5)"
   ]
  },
  {
   "cell_type": "code",
   "execution_count": null,
   "metadata": {},
   "outputs": [],
   "source": [
    "plt.contour(a2)"
   ]
  },
  {
   "cell_type": "code",
   "execution_count": null,
   "metadata": {},
   "outputs": [],
   "source": [
    "#plt.imshow(resize(a1, (227,227)), cmap = 'gray')\n",
    "model = xception.Xception(include_top=False, weights='imagenet', input_shape=(227,227,3) , pooling='avg')"
   ]
  },
  {
   "cell_type": "code",
   "execution_count": null,
   "metadata": {},
   "outputs": [],
   "source": [
    "import keras\n",
    "from keras.applications import  xception#mobilenet_v2,\n",
    "from keras.layers import Input, Convolution2D, Lambda, Flatten\n",
    "import tensorflow as tf\n",
    "from keras.optimizers import Adam\n",
    "#model = xception.Xception(include_top=False, weights='imagenet', input_shape=(227,227,3) , pooling='avg')\n",
    "\n",
    "\n",
    "def create_model(m, lambd_reg, learning_rate):\n",
    "    inp = m.get_layer(name = 'input_12').output\n",
    "    out = m.get_layer(name = 'block14_sepconv2_act').output\n",
    "    m1 = Model(inputs = inp, outputs = out)\n",
    "\n",
    "    inter = m1.output\n",
    "    conv = Convolution2D(1, (1,1), name = 'Conv_Sigmoid', activation = 'sigmoid')\n",
    "    flat = Flatten(name = 'Flatten')\n",
    "    lda = Lambda(lambda x: tf.contrib.framework.sort(x, axis=-1, direction = 'DESCENDING'), name=\"Sort\")\n",
    "\n",
    "    out = lda(flat(conv(inter)))\n",
    "    \n",
    "    m2 =  Model(inputs = inp, outputs = out)\n",
    "    \n",
    "    for layer in m2.layers:\n",
    "        layer.kernel_regularizer = regularizers.l2(lambd_reg)\n",
    "        layer.bias_regularizer = regularizers.l2(lambd_reg)\n",
    "    \n",
    "    adam = Adam(learning_rate)\n",
    "    m2.compile(optimizer = adam, loss = keras.losses.categorical_crossentropy)\n",
    "    return m2\n",
    "\n",
    "\n",
    "class DataGenerator(keras.utils.Sequence):\n",
    "    'Generates data for Keras'\n",
    "    def __init__(self, list_IDs, labels, batch_size=32, dim=(227,227), n_channels=3,\n",
    "                 n_classes=10, shuffle=True, TOP_K = 5, OUT_SIZE = 49):\n",
    "        'Initialization'\n",
    "        \n",
    "        self.dim = dim # ?-1\n",
    "        \n",
    "        self.batch_size = batch_size\n",
    "        self.labels = labels\n",
    "        self.list_IDs = list_IDs\n",
    "        self.n_channels = n_channels\n",
    "        #self.n_classes = n_classes ?-2\n",
    "        self.shuffle = shuffle\n",
    "        self.on_epoch_end()\n",
    "\n",
    "    def __len__(self):\n",
    "        'Denotes the number of batches per epoch'\n",
    "        return int(np.floor(len(self.list_IDs) / self.batch_size))\n",
    "\n",
    "    def __getitem__(self, index):\n",
    "        'Generate one batch of data'\n",
    "        # Generate indexes of the batch\n",
    "        indexes = self.indexes[index*self.batch_size:(index+1)*self.batch_size]\n",
    "\n",
    "        # Find list of IDs\n",
    "        list_IDs_temp = [self.list_IDs[k] for k in indexes]\n",
    "\n",
    "        # Generate data\n",
    "        X, y = self.__data_generation(list_IDs_temp)\n",
    "\n",
    "        return X, y\n",
    "\n",
    "    def on_epoch_end(self):\n",
    "        'Updates indexes after each epoch'\n",
    "        self.indexes = np.arange(len(self.list_IDs))\n",
    "        if self.shuffle == True:\n",
    "            np.random.shuffle(self.indexes)\n",
    "\n",
    "    def __data_generation(self, list_IDs_temp):\n",
    "        'Generates data containing batch_size samples' # X : (n_samples, *dim, n_channels)\n",
    "        # Initialization\n",
    "        X = np.empty((self.batch_size, *self.dim, self.n_channels))\n",
    "        y = np.empty((self.batch_size, OUT_SIZE), dtype='int32')\n",
    "        \n",
    "        photo = 0\n",
    "        # Generate data\n",
    "        for i, ID in enumerate(list_IDs_temp):\n",
    "            # Store sample\n",
    "            \n",
    "            with open('Data/' + cut_name(ID), 'rb') as filehandler:\n",
    "                photo = pickle.load(filehandler)\n",
    "                \n",
    "            #photo = np.load('data/' + ID + '.npy')\n",
    "            img = photo.image\n",
    "            \n",
    "            X[i,] = np.repeat(img.reshape(*self.dim, 1), 3, axis=2)   \n",
    "            \n",
    "            yy = np.zeros(OUT_SIZE, dtype = 'int32')\n",
    "            \n",
    "            if len(photo.m_rois) == 0:\n",
    "                y[i,] = yy\n",
    "            else:\n",
    "                yy[:TOP_K] = 1\n",
    "                y[i,] = yy\n",
    "                \n",
    "\n",
    "        return X, y\n"
   ]
  },
  {
   "cell_type": "code",
   "execution_count": null,
   "metadata": {},
   "outputs": [],
   "source": [
    "mm = create_model(model, lambd_reg = 1e-5, learning_rate = 5e-5)\n",
    "\n"
   ]
  },
  {
   "cell_type": "code",
   "execution_count": null,
   "metadata": {},
   "outputs": [],
   "source": [
    "np.array(['1', '2'])"
   ]
  },
  {
   "cell_type": "code",
   "execution_count": null,
   "metadata": {},
   "outputs": [],
   "source": [
    "\n",
    "from keras import regularizers\n",
    "mm.layers[5].kernel_regularizer"
   ]
  },
  {
   "cell_type": "code",
   "execution_count": null,
   "metadata": {},
   "outputs": [],
   "source": [
    "mm.layers[4].kernel_regularizer"
   ]
  },
  {
   "cell_type": "code",
   "execution_count": null,
   "metadata": {},
   "outputs": [],
   "source": [
    "mm.summary()"
   ]
  },
  {
   "cell_type": "code",
   "execution_count": null,
   "metadata": {},
   "outputs": [],
   "source": [
    "mm.output"
   ]
  },
  {
   "cell_type": "code",
   "execution_count": null,
   "metadata": {},
   "outputs": [],
   "source": [
    "print(tf.__version__)"
   ]
  },
  {
   "cell_type": "code",
   "execution_count": null,
   "metadata": {},
   "outputs": [],
   "source": [
    "t = tf.constant([[[1, 1, 1], [2, 2, 2]],\n",
    "                 [[3, 3, 3], [4, 4, 4]],\n",
    "                 [[5, 5, 5], [6, 6, 6]]])\n",
    "tf.slice(t, [0,0,1], [1,1,2])"
   ]
  },
  {
   "cell_type": "code",
   "execution_count": null,
   "metadata": {},
   "outputs": [],
   "source": [
    "model.summary()"
   ]
  },
  {
   "cell_type": "code",
   "execution_count": null,
   "metadata": {},
   "outputs": [],
   "source": []
  },
  {
   "cell_type": "code",
   "execution_count": null,
   "metadata": {},
   "outputs": [],
   "source": [
    "conv = Convolution2D(1, (7,7))"
   ]
  },
  {
   "cell_type": "code",
   "execution_count": null,
   "metadata": {},
   "outputs": [],
   "source": []
  },
  {
   "cell_type": "code",
   "execution_count": null,
   "metadata": {},
   "outputs": [],
   "source": [
    "m1.summary()"
   ]
  },
  {
   "cell_type": "code",
   "execution_count": null,
   "metadata": {},
   "outputs": [],
   "source": [
    "#inp = tf.placeholder(shape=(None, 227,227,3), dtype = 'float32')\n",
    "\n",
    "inter = m1.output\n",
    "\n",
    "conv = Convolution2D(1, (1,1))\n",
    "\n",
    "out = conv(inter)"
   ]
  },
  {
   "cell_type": "code",
   "execution_count": null,
   "metadata": {},
   "outputs": [],
   "source": [
    "out"
   ]
  },
  {
   "cell_type": "code",
   "execution_count": null,
   "metadata": {},
   "outputs": [],
   "source": [
    "#,input_tensor=Input((227,227,1))\n",
    "inp = tf.placeholder(shape=(227,227,3), dtype = 'float32')\n",
    "model = xception.Xception(include_top=False, weights='imagenet',input_tensor=Input((227,227,3)),input_shape=(227,227,3) , pooling='avg')\n",
    "model.layers.pop()\n",
    "#model = mobilenet_v2.MobileNetV2(input_shape=(224,224,3), alpha=1.3, depth_multiplier=1, include_top=False, weights='imagenet', input_tensor=None, pooling= 'avg')"
   ]
  },
  {
   "cell_type": "code",
   "execution_count": null,
   "metadata": {},
   "outputs": [],
   "source": [
    "model.summary()"
   ]
  },
  {
   "cell_type": "code",
   "execution_count": null,
   "metadata": {},
   "outputs": [],
   "source": [
    "from keras.models import Model"
   ]
  },
  {
   "cell_type": "code",
   "execution_count": null,
   "metadata": {},
   "outputs": [],
   "source": [
    "import tensorflow as tf\n",
    "from keras.layers import Convolution2D"
   ]
  },
  {
   "cell_type": "code",
   "execution_count": null,
   "metadata": {},
   "outputs": [],
   "source": [
    "model.add(Convolution2D(1, (7,7)))"
   ]
  },
  {
   "cell_type": "code",
   "execution_count": null,
   "metadata": {},
   "outputs": [],
   "source": [
    "from keras.models import Sequential\n",
    "inp =  tf.placeholder(shape=(None, 227,227,3), dtype = 'float32')\n",
    "model(inp)"
   ]
  },
  {
   "cell_type": "code",
   "execution_count": null,
   "metadata": {},
   "outputs": [],
   "source": [
    "inp =  tf.placeholder(shape=(227,227,3, None), dtype = 'float32')\n",
    "m1 = model.layers[1](inp)\n",
    "for layer in model.layers[2:]:\n",
    "    m1 = layer(m1)"
   ]
  },
  {
   "cell_type": "code",
   "execution_count": null,
   "metadata": {},
   "outputs": [],
   "source": [
    "m = Model(inputs = inp, outputs = model)"
   ]
  },
  {
   "cell_type": "code",
   "execution_count": null,
   "metadata": {},
   "outputs": [],
   "source": [
    "img = ph.image"
   ]
  },
  {
   "cell_type": "code",
   "execution_count": null,
   "metadata": {},
   "outputs": [],
   "source": [
    "np.stack((img,)*3, axis=-1)"
   ]
  },
  {
   "cell_type": "code",
   "execution_count": null,
   "metadata": {},
   "outputs": [],
   "source": [
    "from keras.models import Sequential, Model\n",
    "\n"
   ]
  },
  {
   "cell_type": "code",
   "execution_count": null,
   "metadata": {},
   "outputs": [],
   "source": []
  }
 ],
 "metadata": {
  "kernelspec": {
   "display_name": "Python [conda env:condathree]",
   "language": "python",
   "name": "conda-env-condathree-py"
  },
  "language_info": {
   "codemirror_mode": {
    "name": "ipython",
    "version": 3
   },
   "file_extension": ".py",
   "mimetype": "text/x-python",
   "name": "python",
   "nbconvert_exporter": "python",
   "pygments_lexer": "ipython3",
   "version": "3.6.3"
  }
 },
 "nbformat": 4,
 "nbformat_minor": 2
}
