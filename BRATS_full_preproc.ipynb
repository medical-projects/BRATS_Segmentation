{
 "cells": [
  {
   "cell_type": "code",
   "execution_count": 21,
   "metadata": {},
   "outputs": [],
   "source": [
    "import os\n",
    "import numpy as np\n",
    "import matplotlib.pyplot as plt\n",
    "import nibabel as nib\n",
    "from skimage.transform import resize"
   ]
  },
  {
   "cell_type": "code",
   "execution_count": 22,
   "metadata": {},
   "outputs": [],
   "source": [
    "def preprocess_patient(series_img, series_roi):\n",
    "    assert(len(series_img) == len(series_roi))\n",
    "    min_x = 100000\n",
    "    max_x = 0\n",
    "    \n",
    "    min_y = 100000\n",
    "    max_y = 0\n",
    "    \n",
    "    for image in list(series_img):\n",
    "        \n",
    "        where = np.where(np.sum(image, axis = 0))\n",
    "        \n",
    "        if len(where[0]) > 0:\n",
    "            \n",
    "            mx_x = where[0][-1]\n",
    "            mn_x = where[0][0]\n",
    "\n",
    "\n",
    "            min_x = mn_x if mn_x < min_x else min_x\n",
    "            max_x = mx_x if mx_x > max_x else max_x\n",
    "        \n",
    "        where = np.where(np.sum(image, axis = 1))\n",
    "        if len(where[0]) > 0:\n",
    "            \n",
    "            mx_y = where[0][-1]\n",
    "            mn_y = where[0][0]\n",
    "\n",
    "            min_y = mn_y if mn_y < min_y else min_y\n",
    "            max_y = mx_y if mx_y > max_y else max_y\n",
    "\n",
    "    series_img_ = [x[min_y: max_y + 1, min_x: max_x + 1] for x in series_img]\n",
    "    series_roi_ = [x[min_y: max_y + 1, min_x: max_x + 1] for x in series_roi]\n",
    "    \n",
    "    return series_img_, series_roi_\n",
    "   "
   ]
  },
  {
   "cell_type": "code",
   "execution_count": 23,
   "metadata": {},
   "outputs": [],
   "source": [
    "class Image_class:\n",
    "    def __init__(self, pat_n, image, roi, n_serial):\n",
    "        \n",
    "        self.name = pat_n\n",
    "        self.image = image\n",
    "        self.roi = roi\n",
    "        self.mal = False\n",
    "        self.n_serial = n_serial\n",
    "        \n",
    "        if np.sum(roi) > 0:\n",
    "            self.mal = True\n",
    "        \n",
    "    def print_roi(self, cmap = 'plasma', linewidths = 0.5,  **args):\n",
    "        plt.contour(self.roi, cmap = cmap, linewidths = linewidths, **args)\n",
    "            \n",
    "    def print_image(self, cmap = 'gray', **args):\n",
    "        plt.imshow(self.image, cmap = 'gray', **args)\n",
    "         "
   ]
  },
  {
   "cell_type": "code",
   "execution_count": 29,
   "metadata": {},
   "outputs": [],
   "source": [
    "def parse_and_extract_images(mri_type):\n",
    "    assert(mri_type in ['t1ce', 't1', 't2', 'flair'])\n",
    "    \n",
    "    patients_pos = {}\n",
    "    patients_neg = {}\n",
    "    for root, dirs, files in os.walk(\"BRATS_data_gzs/\"):\n",
    "        if \"Brats18\" not in root:\n",
    "            continue\n",
    "           \n",
    "        for file in files:\n",
    "            if mri_type in file:\n",
    "                file_name = file[::-1][file[::-1].find('_') + 1:][::-1]\n",
    "                patients_pos[file_name] = []\n",
    "                patients_neg[file_name] = []\n",
    "                \n",
    "                imgs = nib.load(root + '/'+ file).get_data()\n",
    "                \n",
    "                try:\n",
    "                    segs = nib.load(root + '/' + file_name + '_seg.nii').get_data()\n",
    "                except :\n",
    "                    print(\"abscent seg: \", file_name)\n",
    "                    continue\n",
    "                \n",
    "                \n",
    "                for i, (img, seg) in enumerate(zip(*preprocess_patient(imgs,segs))):\n",
    "                    if np.sum(img > 0) < 6000:\n",
    "                        continue\n",
    "                    seg[seg > 0] = 1\n",
    "                    Image_instance = Image_class(file_name, img, seg, i)\n",
    "                    \n",
    "                    if np.sum(seg) > 0: \n",
    "                        patients_pos[file_name].append(file_name + '_' + str(i))\n",
    "                    else:\n",
    "                        patients_neg[file_name].append(file_name + '_' + str(i))\n",
    "        \n",
    "                    with open('BRATS_preprocessed/'+ file_name + '_' + str(i), 'wb'\\\n",
    "                                 ) as filehandler:\n",
    "                        #print(file_name)\n",
    "                        #Image_instance.print_roi(cmap = 'Reds')\n",
    "                        #Image_instance.print_image()\n",
    "                        #plt.show()\n",
    "                        pickle.dump(Image_instance, filehandler)\n",
    "    \n",
    "    with open('patients_pos', 'wb') as filehandler:\n",
    "        pickle.dump(patients_pos, filehandler)\n",
    "    \n",
    "    with open('patients_neg', 'wb') as filehandler:\n",
    "        pickle.dump(patients_neg, filehandler)\n",
    "        \n",
    "    "
   ]
  },
  {
   "cell_type": "code",
   "execution_count": 30,
   "metadata": {},
   "outputs": [
    {
     "name": "stdout",
     "output_type": "stream",
     "text": [
      "abscent seg:  Brats18_CBICA_AWI_1\n"
     ]
    }
   ],
   "source": [
    "parse_and_extract_images('t1ce')"
   ]
  },
  {
   "cell_type": "code",
   "execution_count": null,
   "metadata": {},
   "outputs": [],
   "source": [
    "file = \"Brats18_TCIA08_280_1_flair.nii\"\n",
    "file[::-1][file[::-1].find('_') + 1:][::-1]"
   ]
  },
  {
   "cell_type": "code",
   "execution_count": null,
   "metadata": {},
   "outputs": [],
   "source": [
    "\"esdasd\".find('a')"
   ]
  },
  {
   "cell_type": "code",
   "execution_count": null,
   "metadata": {},
   "outputs": [],
   "source": [
    "import numpy as np\n",
    "zip(list(np.array([1,2,3])), list(np.array([3,4,5])))"
   ]
  },
  {
   "cell_type": "code",
   "execution_count": null,
   "metadata": {},
   "outputs": [],
   "source": [
    "np.where(np.array([1,2,3]) < 2)"
   ]
  },
  {
   "cell_type": "code",
   "execution_count": 7,
   "metadata": {},
   "outputs": [],
   "source": [
    "imgs = nib.load(\"Brats18_TCIA08_280_1_flair.nii\").get_data()\n",
    "Image_instance = Image_class('try', imgs[4], imgs[6], 12)"
   ]
  },
  {
   "cell_type": "code",
   "execution_count": null,
   "metadata": {},
   "outputs": [],
   "source": [
    "with open('BRATS/BRATS_preprocessed/'+ 'try', 'wb') as filehandler:\n",
    "    pickle.dump(Image_instance, filehandler)"
   ]
  },
  {
   "cell_type": "code",
   "execution_count": 28,
   "metadata": {},
   "outputs": [
    {
     "data": {
      "text/plain": [
       "31015"
      ]
     },
     "execution_count": 28,
     "metadata": {},
     "output_type": "execute_result"
    }
   ],
   "source": [
    "import os\n",
    "\n",
    "len(list(os.walk('BRATS_preprocessed'))[0][2])\n",
    "\n",
    "\n",
    "\n",
    "    "
   ]
  },
  {
   "cell_type": "code",
   "execution_count": 20,
   "metadata": {},
   "outputs": [],
   "source": [
    "import pickle"
   ]
  },
  {
   "cell_type": "code",
   "execution_count": 36,
   "metadata": {},
   "outputs": [],
   "source": [
    "with open('patients_pos', 'rb') as fp:\n",
    "    p_p = pickle.load(fp)"
   ]
  },
  {
   "cell_type": "code",
   "execution_count": 39,
   "metadata": {},
   "outputs": [
    {
     "data": {
      "text/plain": [
       "15294"
      ]
     },
     "execution_count": 39,
     "metadata": {},
     "output_type": "execute_result"
    }
   ],
   "source": [
    "np.sum([len(p_n[x]) for x in p_n])"
   ]
  },
  {
   "cell_type": "code",
   "execution_count": 40,
   "metadata": {},
   "outputs": [
    {
     "data": {
      "text/plain": [
       "15609"
      ]
     },
     "execution_count": 40,
     "metadata": {},
     "output_type": "execute_result"
    }
   ],
   "source": [
    "np.sum([len(p_p[x]) for x in p_p])"
   ]
  },
  {
   "cell_type": "code",
   "execution_count": 41,
   "metadata": {},
   "outputs": [
    {
     "data": {
      "text/plain": [
       "29903"
      ]
     },
     "execution_count": 41,
     "metadata": {},
     "output_type": "execute_result"
    }
   ],
   "source": [
    "15609 + 14294"
   ]
  },
  {
   "cell_type": "code",
   "execution_count": 42,
   "metadata": {},
   "outputs": [
    {
     "data": {
      "text/plain": [
       "__main__.Image_class"
      ]
     },
     "execution_count": 42,
     "metadata": {},
     "output_type": "execute_result"
    }
   ],
   "source": [
    "Image_class"
   ]
  },
  {
   "cell_type": "code",
   "execution_count": 45,
   "metadata": {},
   "outputs": [],
   "source": [
    "with open('BRATS_preprocessed/Brats18_2013_4_1_148', 'rb') as fp:\n",
    "    img = pickle.load(fp)"
   ]
  },
  {
   "cell_type": "code",
   "execution_count": 46,
   "metadata": {},
   "outputs": [
    {
     "data": {
      "image/png": "[encoded data removed]",
      "text/plain": [
       "<Figure size 432x288 with 1 Axes>"
      ]
     },
     "metadata": {},
     "output_type": "display_data"
    }
   ],
   "source": [
    "img.print_roi(cmap = 'Reds')\n",
    "img.print_image()\n",
    "plt.show()"
   ]
  },
  {
   "cell_type": "code",
   "execution_count": null,
   "metadata": {},
   "outputs": [],
   "source": []
  }
 ],
 "metadata": {
  "kernelspec": {
   "display_name": "Python 3",
   "language": "python",
   "name": "python3"
  },
  "language_info": {
   "codemirror_mode": {
    "name": "ipython",
    "version": 3
   },
   "file_extension": ".py",
   "mimetype": "text/x-python",
   "name": "python",
   "nbconvert_exporter": "python",
   "pygments_lexer": "ipython3",
   "version": "3.7.3"
  }
 },
 "nbformat": 4,
 "nbformat_minor": 2
}
