{
 "cells": [
  {
   "cell_type": "code",
   "execution_count": 21,
   "metadata": {},
   "outputs": [],
   "source": [
    "import pickle\n",
    "from functools import reduce\n",
    "import matplotlib.pyplot as plt"
   ]
  },
  {
   "cell_type": "code",
   "execution_count": 4,
   "metadata": {},
   "outputs": [],
   "source": [
    "class Image_class:\n",
    "    def __init__(self, pat_n, image, roi, n_serial):\n",
    "        \n",
    "        self.name = pat_n\n",
    "        self.image = image\n",
    "        self.roi = roi\n",
    "        self.mal = False\n",
    "        self.n_serial = n_serial\n",
    "        \n",
    "        if np.sum(roi) > 0:\n",
    "            self.mal = True\n",
    "        \n",
    "    def print_roi(self, cmap = 'plasma', linewidths = 0.5,  **args):\n",
    "        plt.contour(self.roi, cmap = cmap, linewidths = linewidths, **args)\n",
    "            \n",
    "    def print_image(self, cmap = 'gray', **args):\n",
    "        plt.imshow(self.image, cmap = 'gray', **args)\n",
    " "
   ]
  },
  {
   "cell_type": "code",
   "execution_count": 5,
   "metadata": {},
   "outputs": [],
   "source": [
    "with open('patients_pos', 'rb') as filehandler:\n",
    "    patients_pos = pickle.load(filehandler)\n",
    "    \n",
    "with open('patients_neg', 'rb') as filehandler:\n",
    "    patients_neg = pickle.load(filehandler)"
   ]
  },
  {
   "cell_type": "code",
   "execution_count": 6,
   "metadata": {},
   "outputs": [],
   "source": [
    "all_files_pos = reduce(lambda x,y:x+y, patients_pos.values())\n",
    "all_files_neg = reduce(lambda x,y:x+y, patients_neg.values())"
   ]
  },
  {
   "cell_type": "code",
   "execution_count": 12,
   "metadata": {},
   "outputs": [
    {
     "name": "stdout",
     "output_type": "stream",
     "text": [
      "0\n",
      "1000\n",
      "2000\n",
      "3000\n",
      "4000\n",
      "5000\n",
      "6000\n",
      "7000\n",
      "8000\n",
      "9000\n",
      "10000\n",
      "11000\n",
      "12000\n",
      "13000\n",
      "14000\n",
      "15000\n"
     ]
    }
   ],
   "source": [
    "for i, file in enumerate(all_files_pos):\n",
    "    \n",
    "    if i % 1000 == 0:\n",
    "        print(i)\n",
    "        \n",
    "    with open('BRATS_preprocessed/' + file, 'rb') as filehandler:\n",
    "        img = pickle.load(filehandler)\n",
    "    \n",
    "    img.mal = True\n",
    "    \n",
    "    with open('BRATS_preprocessed_/' + file, 'wb') as filehandler:\n",
    "        pickle.dump(img, filehandler)"
   ]
  },
  {
   "cell_type": "code",
   "execution_count": 15,
   "metadata": {},
   "outputs": [
    {
     "name": "stdout",
     "output_type": "stream",
     "text": [
      "0\n",
      "1000\n",
      "2000\n",
      "3000\n",
      "4000\n",
      "5000\n",
      "6000\n",
      "7000\n",
      "8000\n",
      "9000\n",
      "10000\n",
      "11000\n",
      "12000\n",
      "13000\n",
      "14000\n",
      "15000\n"
     ]
    }
   ],
   "source": [
    "for i, file in enumerate(all_files_neg):\n",
    "    \n",
    "    if i % 1000 == 0:\n",
    "        print(i)\n",
    "        \n",
    "    with open('BRATS_preprocessed/' + file, 'rb') as filehandler:\n",
    "        img = pickle.load(filehandler)\n",
    "    \n",
    "    img.mal = False\n",
    "    \n",
    "    with open('BRATS_preprocessed_/' + file, 'wb') as filehandler:\n",
    "        pickle.dump(img, filehandler)"
   ]
  },
  {
   "cell_type": "code",
   "execution_count": 18,
   "metadata": {},
   "outputs": [
    {
     "data": {
      "text/plain": [
       "31350"
      ]
     },
     "execution_count": 18,
     "metadata": {},
     "output_type": "execute_result"
    }
   ],
   "source": [
    "import os\n",
    "\n",
    "len(list(os.walk('BRATS_preprocessed_'))[0][2])"
   ]
  },
  {
   "cell_type": "code",
   "execution_count": 19,
   "metadata": {},
   "outputs": [
    {
     "data": {
      "text/plain": [
       "31350"
      ]
     },
     "execution_count": 19,
     "metadata": {},
     "output_type": "execute_result"
    }
   ],
   "source": [
    "len(list(os.walk('BRATS_preprocessed'))[0][2])"
   ]
  },
  {
   "cell_type": "code",
   "execution_count": null,
   "metadata": {},
   "outputs": [],
   "source": [
    "for file in [patients_neg[x][0] for x in patients_neg if len(patients_neg[x]) > 0]:\n",
    "    with open('BRATS_preprocessed_/' + file ,'rb') as filehandler:\n",
    "        img = pickle.load(filehandler)\n",
    "        print(img.mal)\n",
    "    print(file)    \n",
    "    img.print_roi(cmap = 'Reds')\n",
    "    img.print_image()\n",
    "    plt.show()"
   ]
  },
  {
   "cell_type": "code",
   "execution_count": null,
   "metadata": {},
   "outputs": [],
   "source": []
  }
 ],
 "metadata": {
  "kernelspec": {
   "display_name": "Python 3",
   "language": "python",
   "name": "python3"
  },
  "language_info": {
   "codemirror_mode": {
    "name": "ipython",
    "version": 3
   },
   "file_extension": ".py",
   "mimetype": "text/x-python",
   "name": "python",
   "nbconvert_exporter": "python",
   "pygments_lexer": "ipython3",
   "version": "3.5.3"
  }
 },
 "nbformat": 4,
 "nbformat_minor": 2
}
